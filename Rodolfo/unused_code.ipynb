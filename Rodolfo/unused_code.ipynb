{
 "cells": [
  {
   "cell_type": "markdown",
   "id": "4806ed88",
   "metadata": {},
   "source": [
    "## Unused code that might be useful later "
   ]
  },
  {
   "cell_type": "code",
   "execution_count": null,
   "id": "70748b3b",
   "metadata": {},
   "outputs": [],
   "source": [
    "ct = pd.crosstab(ft_hf_results_eredivisie_2005['HTResult'], ft_hf_results_eredivisie_2005['FTResult'])\n",
    "\n",
    "fig, ax = plt.subplots(figsize=(7, 7))\n",
    "im = ax.imshow(ct, cmap='YlOrBr', interpolation='nearest')\n",
    "\n",
    "ax.set_xticks(range(len(ct.columns)))\n",
    "ax.set_xticklabels(ct.columns)\n",
    "ax.set_yticks(range(len(ct.index)))\n",
    "ax.set_yticklabels(ct.index)\n",
    "ax.set_xlabel('Full‑time Result')\n",
    "ax.set_ylabel('Half‑time Result')\n",
    "fig.colorbar(im, ax=ax, label='Count')\n",
    "\n",
    "plt.title('HT→FT Result Heat‑map')\n",
    "plt.show()"
   ]
  }
 ],
 "metadata": {
  "language_info": {
   "name": "python"
  }
 },
 "nbformat": 4,
 "nbformat_minor": 5
}
