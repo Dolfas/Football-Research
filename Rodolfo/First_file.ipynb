{
 "cells": [
  {
   "cell_type": "markdown",
   "id": "45efd081",
   "metadata": {},
   "source": [
    "### First file of Football Research ###"
   ]
  },
  {
   "cell_type": "code",
   "execution_count": null,
   "id": "1307e11e",
   "metadata": {},
   "outputs": [],
   "source": []
  }
 ],
 "metadata": {
  "language_info": {
   "name": "python"
  }
 },
 "nbformat": 4,
 "nbformat_minor": 5
}
